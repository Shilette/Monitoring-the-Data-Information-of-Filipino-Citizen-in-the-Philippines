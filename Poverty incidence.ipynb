{
 "cells": [
  {
   "cell_type": "markdown",
   "id": "8567dbeb",
   "metadata": {},
   "source": [
    "# The Analysis of Poverty People in Region IV-A Municipality of Batangas"
   ]
  },
  {
   "cell_type": "markdown",
   "id": "54751b54",
   "metadata": {},
   "source": [
    "    In Region IV-A Batangas Area poverty makes life difficult for every family member and for families as a whole in a society where injustice and discrimination are common and the screws of austerity and budget cuts continue to tighten. Poverty causes an imbalance in society's quality, resulting in ignorant individuals becoming homeless and unemployed, which leads to crime and revolution. People are usually involved in crime because they just cruise the streets looking for something worth to them in order to profit from it."
   ]
  },
  {
   "cell_type": "markdown",
   "id": "7e39e345",
   "metadata": {},
   "source": [
    "#### First is to import the required libraries"
   ]
  },
  {
   "cell_type": "code",
   "execution_count": 1,
   "id": "5eb8ff57",
   "metadata": {},
   "outputs": [],
   "source": [
    "import pandas as pd\n",
    "import numpy as np\n",
    "import matplotlib.pyplot as plt\n",
    "import seaborn as sns"
   ]
  },
  {
   "cell_type": "markdown",
   "id": "5d26145e",
   "metadata": {},
   "source": [
    "#### Read the data from the csv file"
   ]
  },
  {
   "cell_type": "code",
   "execution_count": 2,
   "id": "0bb140ab",
   "metadata": {},
   "outputs": [
    {
     "data": {
      "text/html": [
       "<div>\n",
       "<style scoped>\n",
       "    .dataframe tbody tr th:only-of-type {\n",
       "        vertical-align: middle;\n",
       "    }\n",
       "\n",
       "    .dataframe tbody tr th {\n",
       "        vertical-align: top;\n",
       "    }\n",
       "\n",
       "    .dataframe thead th {\n",
       "        text-align: right;\n",
       "    }\n",
       "</style>\n",
       "<table border=\"1\" class=\"dataframe\">\n",
       "  <thead>\n",
       "    <tr style=\"text-align: right;\">\n",
       "      <th></th>\n",
       "      <th>pcode</th>\n",
       "      <th>region</th>\n",
       "      <th>province</th>\n",
       "      <th>municipality_city</th>\n",
       "      <th>prelim_2012</th>\n",
       "      <th>pov_2012</th>\n",
       "      <th>se_2012</th>\n",
       "      <th>cov_2012</th>\n",
       "      <th>con_90lower_2012</th>\n",
       "      <th>con_90upper_2012</th>\n",
       "      <th>pov_2009</th>\n",
       "      <th>se_2009</th>\n",
       "      <th>cov_2009</th>\n",
       "      <th>pov_2006</th>\n",
       "      <th>se_2006</th>\n",
       "      <th>cov_2006</th>\n",
       "    </tr>\n",
       "  </thead>\n",
       "  <tbody>\n",
       "    <tr>\n",
       "      <th>0</th>\n",
       "      <td>PH041001000</td>\n",
       "      <td>Region IV-A</td>\n",
       "      <td>Batangas</td>\n",
       "      <td>Agoncillo</td>\n",
       "      <td>False</td>\n",
       "      <td>16.17</td>\n",
       "      <td>1.64</td>\n",
       "      <td>10.142239</td>\n",
       "      <td>13.47220</td>\n",
       "      <td>18.86780</td>\n",
       "      <td>15.4</td>\n",
       "      <td>1.9</td>\n",
       "      <td>12.1</td>\n",
       "      <td>19.3</td>\n",
       "      <td>3.2</td>\n",
       "      <td>16.6</td>\n",
       "    </tr>\n",
       "    <tr>\n",
       "      <th>1</th>\n",
       "      <td>PH041002000</td>\n",
       "      <td>Region IV-A</td>\n",
       "      <td>Batangas</td>\n",
       "      <td>Alitagtag</td>\n",
       "      <td>False</td>\n",
       "      <td>6.49</td>\n",
       "      <td>0.65</td>\n",
       "      <td>10.015408</td>\n",
       "      <td>5.42075</td>\n",
       "      <td>7.55925</td>\n",
       "      <td>8.6</td>\n",
       "      <td>1.5</td>\n",
       "      <td>17.0</td>\n",
       "      <td>7.5</td>\n",
       "      <td>2.2</td>\n",
       "      <td>28.8</td>\n",
       "    </tr>\n",
       "    <tr>\n",
       "      <th>2</th>\n",
       "      <td>PH041003000</td>\n",
       "      <td>Region IV-A</td>\n",
       "      <td>Batangas</td>\n",
       "      <td>Balayan</td>\n",
       "      <td>False</td>\n",
       "      <td>8.74</td>\n",
       "      <td>0.88</td>\n",
       "      <td>10.068650</td>\n",
       "      <td>7.29240</td>\n",
       "      <td>10.18760</td>\n",
       "      <td>14.1</td>\n",
       "      <td>1.3</td>\n",
       "      <td>9.0</td>\n",
       "      <td>17.2</td>\n",
       "      <td>2.1</td>\n",
       "      <td>12.2</td>\n",
       "    </tr>\n",
       "    <tr>\n",
       "      <th>3</th>\n",
       "      <td>PH041004000</td>\n",
       "      <td>Region IV-A</td>\n",
       "      <td>Batangas</td>\n",
       "      <td>Balete</td>\n",
       "      <td>False</td>\n",
       "      <td>10.59</td>\n",
       "      <td>1.03</td>\n",
       "      <td>9.726157</td>\n",
       "      <td>8.89565</td>\n",
       "      <td>12.28435</td>\n",
       "      <td>17.2</td>\n",
       "      <td>2.8</td>\n",
       "      <td>16.2</td>\n",
       "      <td>24.6</td>\n",
       "      <td>4.4</td>\n",
       "      <td>18.0</td>\n",
       "    </tr>\n",
       "    <tr>\n",
       "      <th>4</th>\n",
       "      <td>PH041005000</td>\n",
       "      <td>Region IV-A</td>\n",
       "      <td>Batangas</td>\n",
       "      <td>Batangas City</td>\n",
       "      <td>False</td>\n",
       "      <td>3.62</td>\n",
       "      <td>0.72</td>\n",
       "      <td>19.889503</td>\n",
       "      <td>2.43560</td>\n",
       "      <td>4.80440</td>\n",
       "      <td>7.1</td>\n",
       "      <td>0.7</td>\n",
       "      <td>9.7</td>\n",
       "      <td>8.1</td>\n",
       "      <td>1.0</td>\n",
       "      <td>11.7</td>\n",
       "    </tr>\n",
       "  </tbody>\n",
       "</table>\n",
       "</div>"
      ],
      "text/plain": [
       "         pcode       region  province municipality_city  prelim_2012  \\\n",
       "0  PH041001000  Region IV-A  Batangas         Agoncillo        False   \n",
       "1  PH041002000  Region IV-A  Batangas         Alitagtag        False   \n",
       "2  PH041003000  Region IV-A  Batangas           Balayan        False   \n",
       "3  PH041004000  Region IV-A  Batangas            Balete        False   \n",
       "4  PH041005000  Region IV-A  Batangas     Batangas City        False   \n",
       "\n",
       "   pov_2012  se_2012   cov_2012  con_90lower_2012  con_90upper_2012  pov_2009  \\\n",
       "0     16.17     1.64  10.142239          13.47220          18.86780      15.4   \n",
       "1      6.49     0.65  10.015408           5.42075           7.55925       8.6   \n",
       "2      8.74     0.88  10.068650           7.29240          10.18760      14.1   \n",
       "3     10.59     1.03   9.726157           8.89565          12.28435      17.2   \n",
       "4      3.62     0.72  19.889503           2.43560           4.80440       7.1   \n",
       "\n",
       "   se_2009  cov_2009  pov_2006  se_2006  cov_2006  \n",
       "0      1.9      12.1      19.3      3.2      16.6  \n",
       "1      1.5      17.0       7.5      2.2      28.8  \n",
       "2      1.3       9.0      17.2      2.1      12.2  \n",
       "3      2.8      16.2      24.6      4.4      18.0  \n",
       "4      0.7       9.7       8.1      1.0      11.7  "
      ]
     },
     "execution_count": 2,
     "metadata": {},
     "output_type": "execute_result"
    }
   ],
   "source": [
    "data = pd.read_csv('phl_cityandmunicipallevelpovertyestimates_csv_1.csv')\n",
    "data.head()"
   ]
  },
  {
   "cell_type": "markdown",
   "id": "bedff298",
   "metadata": {},
   "source": [
    "#### Checking for any missing values"
   ]
  },
  {
   "cell_type": "code",
   "execution_count": 3,
   "id": "58b3524f",
   "metadata": {
    "scrolled": true
   },
   "outputs": [
    {
     "data": {
      "text/plain": [
       "pcode                0\n",
       "region               0\n",
       "province             0\n",
       "municipality_city    0\n",
       "prelim_2012          0\n",
       "pov_2012             0\n",
       "se_2012              0\n",
       "cov_2012             0\n",
       "con_90lower_2012     0\n",
       "con_90upper_2012     0\n",
       "pov_2009             0\n",
       "se_2009              0\n",
       "cov_2009             0\n",
       "pov_2006             0\n",
       "se_2006              0\n",
       "cov_2006             0\n",
       "dtype: int64"
      ]
     },
     "execution_count": 3,
     "metadata": {},
     "output_type": "execute_result"
    }
   ],
   "source": [
    "data.isnull().sum()"
   ]
  },
  {
   "cell_type": "markdown",
   "id": "aa6322c1",
   "metadata": {},
   "source": [
    "## \"pov_2012\" represents as the data file for the entire poverty of 2012 in Batangas"
   ]
  },
  {
   "cell_type": "code",
   "execution_count": 6,
   "id": "ed82a78c",
   "metadata": {
    "scrolled": false
   },
   "outputs": [
    {
     "name": "stderr",
     "output_type": "stream",
     "text": [
      "C:\\Users\\Win10\\AppData\\Roaming\\Python\\Python310\\site-packages\\seaborn\\distributions.py:2619: FutureWarning: `distplot` is a deprecated function and will be removed in a future version. Please adapt your code to use either `displot` (a figure-level function with similar flexibility) or `histplot` (an axes-level function for histograms).\n",
      "  warnings.warn(msg, FutureWarning)\n"
     ]
    },
    {
     "data": {
      "text/plain": [
       "<AxesSubplot:xlabel='pov_2012', ylabel='Density'>"
      ]
     },
     "execution_count": 6,
     "metadata": {},
     "output_type": "execute_result"
    },
    {
     "data": {
      "image/png": "[encoded data removed]",
      "text/plain": [
       "<Figure size 432x288 with 1 Axes>"
      ]
     },
     "metadata": {
      "needs_background": "light"
     },
     "output_type": "display_data"
    }
   ],
   "source": [
    "sns.distplot(data['pov_2012'])"
   ]
  },
  {
   "cell_type": "markdown",
   "id": "5587cc96",
   "metadata": {},
   "source": [
    "## \"pov_2009\" represents as the data file for the entire poverty of 2009 in Batangas"
   ]
  },
  {
   "cell_type": "code",
   "execution_count": 7,
   "id": "3ba91585",
   "metadata": {
    "scrolled": false
   },
   "outputs": [
    {
     "name": "stderr",
     "output_type": "stream",
     "text": [
      "C:\\Users\\Win10\\AppData\\Roaming\\Python\\Python310\\site-packages\\seaborn\\distributions.py:2619: FutureWarning: `distplot` is a deprecated function and will be removed in a future version. Please adapt your code to use either `displot` (a figure-level function with similar flexibility) or `histplot` (an axes-level function for histograms).\n",
      "  warnings.warn(msg, FutureWarning)\n"
     ]
    },
    {
     "data": {
      "text/plain": [
       "<AxesSubplot:xlabel='pov_2009', ylabel='Density'>"
      ]
     },
     "execution_count": 7,
     "metadata": {},
     "output_type": "execute_result"
    },
    {
     "data": {
      "image/png": "[encoded data removed]",
      "text/plain": [
       "<Figure size 432x288 with 1 Axes>"
      ]
     },
     "metadata": {
      "needs_background": "light"
     },
     "output_type": "display_data"
    }
   ],
   "source": [
    "sns.distplot(data['pov_2009'])"
   ]
  },
  {
   "cell_type": "markdown",
   "id": "070525a9",
   "metadata": {},
   "source": [
    "## \"pov_2006\" represents as the data file for the entire poverty of 2006 in Batangas"
   ]
  },
  {
   "cell_type": "code",
   "execution_count": 8,
   "id": "427d2a0f",
   "metadata": {
    "scrolled": false
   },
   "outputs": [
    {
     "name": "stderr",
     "output_type": "stream",
     "text": [
      "C:\\Users\\Win10\\AppData\\Roaming\\Python\\Python310\\site-packages\\seaborn\\distributions.py:2619: FutureWarning: `distplot` is a deprecated function and will be removed in a future version. Please adapt your code to use either `displot` (a figure-level function with similar flexibility) or `histplot` (an axes-level function for histograms).\n",
      "  warnings.warn(msg, FutureWarning)\n"
     ]
    },
    {
     "data": {
      "text/plain": [
       "<AxesSubplot:xlabel='pov_2006', ylabel='Density'>"
      ]
     },
     "execution_count": 8,
     "metadata": {},
     "output_type": "execute_result"
    },
    {
     "data": {
      "image/png": "[encoded data removed]",
      "text/plain": [
       "<Figure size 432x288 with 1 Axes>"
      ]
     },
     "metadata": {
      "needs_background": "light"
     },
     "output_type": "display_data"
    }
   ],
   "source": [
    "sns.distplot(data['pov_2006'])"
   ]
  },
  {
   "cell_type": "code",
   "execution_count": null,
   "id": "9c5cc02c",
   "metadata": {},
   "outputs": [],
   "source": []
  }
 ],
 "metadata": {
  "kernelspec": {
   "display_name": "Python 3 (ipykernel)",
   "language": "python",
   "name": "python3"
  },
  "language_info": {
   "codemirror_mode": {
    "name": "ipython",
    "version": 3
   },
   "file_extension": ".py",
   "mimetype": "text/x-python",
   "name": "python",
   "nbconvert_exporter": "python",
   "pygments_lexer": "ipython3",
   "version": "3.10.4"
  }
 },
 "nbformat": 4,
 "nbformat_minor": 5
}
